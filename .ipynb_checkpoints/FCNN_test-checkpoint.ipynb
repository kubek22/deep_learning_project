{
 "cells": [
  {
   "cell_type": "code",
   "metadata": {
    "ExecuteTime": {
     "end_time": "2025-03-12T22:08:59.714587Z",
     "start_time": "2025-03-12T22:08:58.830157Z"
    }
   },
   "source": [
    "%load_ext autoreload\n",
    "%autoreload 2\n",
    "from data_loader import load_datasets, create_data_loaders\n",
    "import torch.nn as nn\n",
    "import torch.nn.functional as F\n",
    "import torch.optim as optim\n",
    "import torch\n",
    "import matplotlib.pyplot as plt\n",
    "from training_pipeline import repeat_training, train_with_different_parameters\n",
    "from serialization import load\n",
    "from cnn_model import Net\n",
    "import numpy as np\n",
    "import random\n",
    "\n",
    "SEED = 42\n"
   ],
   "outputs": [
    {
     "name": "stdout",
     "output_type": "stream",
     "text": [
      "The autoreload extension is already loaded. To reload it, use:\n",
      "  %reload_ext autoreload\n"
     ]
    }
   ],
   "execution_count": 2
  },
  {
   "metadata": {
    "ExecuteTime": {
     "end_time": "2025-03-12T22:09:00.411416Z",
     "start_time": "2025-03-12T22:09:00.385493Z"
    }
   },
   "cell_type": "code",
   "source": [
    "def set_seed(seed):\n",
    "    random.seed(seed)\n",
    "    np.random.seed(seed)\n",
    "    torch.manual_seed(seed)\n",
    "    torch.cuda.manual_seed(seed)"
   ],
   "outputs": [],
   "execution_count": 3
  },
  {
   "cell_type": "code",
   "metadata": {
    "ExecuteTime": {
     "end_time": "2025-03-12T22:09:01.616445Z",
     "start_time": "2025-03-12T22:09:01.592399Z"
    }
   },
   "source": [
    "set_seed(SEED)\n",
    "batch_size = 64"
   ],
   "outputs": [],
   "execution_count": 4
  },
  {
   "cell_type": "code",
   "metadata": {
    "ExecuteTime": {
     "end_time": "2025-03-12T22:09:03.338501Z",
     "start_time": "2025-03-12T22:09:02.840317Z"
    }
   },
   "source": [
    "train, val, test = load_datasets((32, 32))\n",
    "train_dat, val_dat, test_dat = create_data_loaders(train, val, test, batch_size)"
   ],
   "outputs": [],
   "execution_count": 5
  },
  {
   "cell_type": "markdown",
   "metadata": {},
   "source": [
    "### Learning rate test"
   ]
  },
  {
   "cell_type": "code",
   "metadata": {
    "jupyter": {
     "is_executing": true
    },
    "ExecuteTime": {
     "start_time": "2025-03-12T22:09:04.716278Z"
    }
   },
   "source": [
    "set_seed(SEED)\n",
    "train_with_different_parameters(5, Net, 10, train_dat, val_dat, test_dat, 'cuda', batch_size, lrs=[i/500 for i in range(1,6)])"
   ],
   "outputs": [
    {
     "name": "stdout",
     "output_type": "stream",
     "text": [
      "training iteration: 1 of 5\n",
      "starting training...\n"
     ]
    }
   ],
   "execution_count": null
  },
  {
   "cell_type": "markdown",
   "metadata": {},
   "source": [
    "### Dropout test"
   ]
  },
  {
   "cell_type": "code",
   "execution_count": null,
   "metadata": {},
   "outputs": [],
   "source": [
    "set_seed(SEED)\n",
    "train_with_different_parameters(5, Net, 10, train_dat, val_dat, test_dat, 'cuda', batch_size, dropouts=[i/10 for i in range(3,8)])"
   ]
  },
  {
   "cell_type": "markdown",
   "metadata": {},
   "source": [
    "### Betas tests"
   ]
  },
  {
   "cell_type": "code",
   "execution_count": null,
   "metadata": {},
   "outputs": [],
   "source": [
    "set_seed(SEED)\n",
    "train_with_different_parameters(5, Net, 10, train_dat, val_dat, test_dat, 'cuda', batch_size, betas=[(1-i/10, 1-i/1000) for i in range(2,6)])"
   ]
  }
 ],
 "metadata": {
  "kernelspec": {
   "display_name": ".venv",
   "language": "python",
   "name": "python3"
  },
  "language_info": {
   "codemirror_mode": {
    "name": "ipython",
    "version": 3
   },
   "file_extension": ".py",
   "mimetype": "text/x-python",
   "name": "python",
   "nbconvert_exporter": "python",
   "pygments_lexer": "ipython3",
   "version": "3.12.7"
  }
 },
 "nbformat": 4,
 "nbformat_minor": 2
}
