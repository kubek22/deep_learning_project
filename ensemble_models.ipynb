{
 "cells": [
  {
   "cell_type": "code",
   "id": "initial_id",
   "metadata": {
    "collapsed": true,
    "ExecuteTime": {
     "end_time": "2025-03-25T13:07:09.741064Z",
     "start_time": "2025-03-25T13:07:07.864756Z"
    }
   },
   "source": [
    "%load_ext autoreload\n",
    "%autoreload 2\n",
    "from data_loader import load_datasets, create_data_loaders\n",
    "import torch\n",
    "import os\n",
    "from cnn_model import Net as init_cnn\n",
    "import numpy as np\n",
    "from init_nets import init_resnet, init_efficientnet\n",
    "import torch.nn.functional as F\n",
    "from serialization import save, load\n",
    "\n",
    "SEED = 42"
   ],
   "outputs": [],
   "execution_count": 1
  },
  {
   "metadata": {
    "ExecuteTime": {
     "end_time": "2025-03-25T13:07:09.863127Z",
     "start_time": "2025-03-25T13:07:09.835905Z"
    }
   },
   "cell_type": "code",
   "source": [
    "# model paths\n",
    "cnn_model_path = \"output/models/cnn/cnn\"\n",
    "resnet_model_path = \"output/models/resnet/resnet\"\n",
    "efficientnet_model_path = \"output/models/efficientnet/efficientnet\"\n",
    "dropout = 0.4\n",
    "device = torch.device(\"cuda\" if torch.cuda.is_available() else \"cpu\")\n",
    "\n",
    "dir_ensemble = \"output/history/ensemble/\"\n",
    "path_ensemble_hard = \"output/history/ensemble/history_hard.pkl\"\n",
    "path_ensemble_soft = \"output/history/ensemble/history_soft.pkl\"\n",
    "\n",
    "if not os.path.exists(dir_ensemble):\n",
    "    os.makedirs(dir_ensemble)"
   ],
   "id": "54f741546cca7b0b",
   "outputs": [],
   "execution_count": 2
  },
  {
   "metadata": {
    "ExecuteTime": {
     "end_time": "2025-03-25T13:07:11.956321Z",
     "start_time": "2025-03-25T13:07:09.905279Z"
    }
   },
   "cell_type": "code",
   "source": [
    "batch_size = 128\n",
    "size_cnn = (32, 32)\n",
    "size = (224, 224)\n",
    "train_cnn, val_cnn, test_cnn = load_datasets(size_cnn)\n",
    "train, val, test = load_datasets(size)\n",
    "\n",
    "_, _, test_dataloader_cnn = create_data_loaders(train_cnn, val_cnn, test_cnn, batch_size)\n",
    "_, _, test_dataloader = create_data_loaders(train, val, test, batch_size)\n",
    "\n",
    "labels = torch.tensor(test.targets).to(device)"
   ],
   "id": "9c73400f3a919059",
   "outputs": [],
   "execution_count": 3
  },
  {
   "metadata": {
    "ExecuteTime": {
     "end_time": "2025-03-25T13:07:12.171650Z",
     "start_time": "2025-03-25T13:07:12.144292Z"
    }
   },
   "cell_type": "code",
   "source": [
    "def get_proba(model, dataloader, device):\n",
    "    all_outputs = []\n",
    "    model.eval()\n",
    "    with torch.no_grad():\n",
    "        for x, y in dataloader:\n",
    "            x, y = x.to(device), y.to(device)\n",
    "            output = model(x)\n",
    "            output = F.softmax(output, dim=1)\n",
    "            all_outputs.append(output)\n",
    "    return torch.cat(all_outputs, dim=0)\n",
    "\n",
    "def get_prediction(proba):\n",
    "    _, predicted = torch.max(proba, 1)\n",
    "    return predicted\n",
    "\n",
    "def compute_accuracy(preds, labels):\n",
    "    accuracy = preds.eq(labels).sum().item() / labels.size(0) * 100\n",
    "    return accuracy\n"
   ],
   "id": "1d10a04f1fdb2b78",
   "outputs": [],
   "execution_count": 4
  },
  {
   "metadata": {
    "ExecuteTime": {
     "end_time": "2025-03-25T13:23:20.466645Z",
     "start_time": "2025-03-25T13:09:04.994619Z"
    }
   },
   "cell_type": "code",
   "source": [
    "# ensemble models\n",
    "hard_accuracy_list = []\n",
    "soft_accuracy_list = []\n",
    "\n",
    "for i in range(1, 6):\n",
    "    # set paths\n",
    "    suffix = f\"_{i}.pth\"\n",
    "    cnn_model_path_i = cnn_model_path + suffix\n",
    "    resnet_model_path_i = resnet_model_path + suffix\n",
    "    efficientnet_model_path_i = efficientnet_model_path + suffix\n",
    "    \n",
    "    # initialize nets\n",
    "    cnn = init_cnn(dropout=dropout).to(device)\n",
    "    resnet = init_resnet().to(device)\n",
    "    efficientnet = init_efficientnet().to(device)\n",
    "    \n",
    "    # load weights\n",
    "    cnn.load_state_dict(torch.load(cnn_model_path_i, weights_only=True))\n",
    "    resnet.load_state_dict(torch.load(resnet_model_path_i, weights_only=True))\n",
    "    efficientnet.load_state_dict(torch.load(efficientnet_model_path_i, weights_only=True))\n",
    "    \n",
    "    # get probabilities\n",
    "    cnn_prob = get_proba(cnn, test_dataloader_cnn, device) # different data loader for cnn\n",
    "    resnet_prob = get_proba(resnet, test_dataloader, device)\n",
    "    efficientnet_prob = get_proba(efficientnet, test_dataloader, device)\n",
    "    \n",
    "    # hard voting\n",
    "    cnn_pred = get_prediction(cnn_prob)\n",
    "    resnet_pred = get_prediction(resnet_prob)\n",
    "    efficientnet_pred = get_prediction(efficientnet_prob)\n",
    "    \n",
    "    models_pred = torch.stack([cnn_pred, resnet_pred, efficientnet_pred], dim=0)\n",
    "    hard_pred, _ = torch.mode(models_pred, dim=0)\n",
    "    hard_accuracy = compute_accuracy(hard_pred, labels)\n",
    "    hard_accuracy_list.append(hard_accuracy)\n",
    "    \n",
    "    # soft voting\n",
    "    ensemble_prob = (cnn_prob + resnet_prob + efficientnet_prob) / 3\n",
    "    soft_pred = get_prediction(ensemble_prob)\n",
    "    soft_accuracy = compute_accuracy(soft_pred, labels)\n",
    "    soft_accuracy_list.append(soft_accuracy)\n",
    "\n",
    "# saving results\n",
    "save(hard_accuracy_list, path_ensemble_hard)\n",
    "save(soft_accuracy_list, path_ensemble_soft)"
   ],
   "id": "dce04824c3bb507c",
   "outputs": [],
   "execution_count": 6
  },
  {
   "metadata": {
    "ExecuteTime": {
     "end_time": "2025-03-25T13:23:27.370862Z",
     "start_time": "2025-03-25T13:23:27.345250Z"
    }
   },
   "cell_type": "code",
   "source": [
    "print(hard_accuracy_list)\n",
    "print(soft_accuracy_list)"
   ],
   "id": "e62aa27e5eda0d7f",
   "outputs": [
    {
     "name": "stdout",
     "output_type": "stream",
     "text": [
      "[84.03222222222222, 85.11, 83.37666666666667, 85.94111111111111, 85.24444444444444]\n",
      "[88.24, 88.37666666666667, 87.67555555555555, 87.99, 88.51444444444444]\n"
     ]
    }
   ],
   "execution_count": 8
  }
 ],
 "metadata": {
  "kernelspec": {
   "display_name": "Python 3",
   "language": "python",
   "name": "python3"
  },
  "language_info": {
   "codemirror_mode": {
    "name": "ipython",
    "version": 2
   },
   "file_extension": ".py",
   "mimetype": "text/x-python",
   "name": "python",
   "nbconvert_exporter": "python",
   "pygments_lexer": "ipython2",
   "version": "2.7.6"
  }
 },
 "nbformat": 4,
 "nbformat_minor": 5
}
