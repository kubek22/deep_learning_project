{
 "cells": [
  {
   "metadata": {
    "ExecuteTime": {
     "end_time": "2025-03-31T13:49:48.587876Z",
     "start_time": "2025-03-31T13:49:46.693610Z"
    }
   },
   "cell_type": "code",
   "source": [
    "import pandas as pd\n",
    "%load_ext autoreload\n",
    "%autoreload 2\n",
    "from data_loader import load_datasets, create_data_loaders\n",
    "import torch\n",
    "import os\n",
    "from cnn_model import Net as init_cnn\n",
    "import numpy as np\n",
    "from init_nets import init_resnet, init_efficientnet\n",
    "import torch.nn.functional as F\n",
    "from serialization import save, load\n",
    "\n",
    "SEED = 42"
   ],
   "id": "cbf86c12c7f8f792",
   "outputs": [],
   "execution_count": 1
  },
  {
   "metadata": {
    "ExecuteTime": {
     "end_time": "2025-03-31T13:49:48.619760Z",
     "start_time": "2025-03-31T13:49:48.587876Z"
    }
   },
   "cell_type": "code",
   "source": [
    "# model paths\n",
    "cnn_model_path = \"output/models/cnn/cnn\"\n",
    "resnet_model_path = \"output/models/resnet/resnet\"\n",
    "efficientnet_model_path = \"output/models/efficientnet/efficientnet\"\n",
    "dropout = 0.4\n",
    "device = torch.device(\"cuda\" if torch.cuda.is_available() else \"cpu\")\n",
    "\n",
    "dir_ensemble = \"output/history/ensemble/\"\n",
    "path_ensemble_hard = \"output/history/ensemble/history_hard.pkl\"\n",
    "path_ensemble_soft = \"output/history/ensemble/history_soft.pkl\"\n",
    "\n",
    "if not os.path.exists(dir_ensemble):\n",
    "    os.makedirs(dir_ensemble)"
   ],
   "id": "d0bca2db7f1556db",
   "outputs": [],
   "execution_count": 2
  },
  {
   "metadata": {},
   "cell_type": "code",
   "outputs": [],
   "execution_count": null,
   "source": [
    "batch_size = 128\n",
    "size_cnn = (32, 32)\n",
    "size = (224, 224)\n",
    "train_cnn, val_cnn, test_cnn = load_datasets(size_cnn)\n",
    "train, val, test = load_datasets(size)\n",
    "\n",
    "_, _, test_dataloader_cnn = create_data_loaders(train_cnn, val_cnn, test_cnn, batch_size)\n",
    "_, _, test_dataloader = create_data_loaders(train, val, test, batch_size)\n",
    "\n",
    "labels = torch.tensor(test.targets).to(device)"
   ],
   "id": "dc0b87b7badef4ad"
  },
  {
   "metadata": {},
   "cell_type": "code",
   "outputs": [],
   "execution_count": null,
   "source": [
    "def get_proba(model, dataloader, device):\n",
    "    all_outputs = []\n",
    "    model.eval()\n",
    "    with torch.no_grad():\n",
    "        for x, y in dataloader:\n",
    "            x, y = x.to(device), y.to(device)\n",
    "            output = model(x)\n",
    "            output = F.softmax(output, dim=1)\n",
    "            all_outputs.append(output)\n",
    "    return torch.cat(all_outputs, dim=0)\n",
    "\n",
    "def get_prediction(proba):\n",
    "    _, predicted = torch.max(proba, 1)\n",
    "    return predicted\n",
    "\n",
    "def compute_accuracy(preds, labels):\n",
    "    accuracy = preds.eq(labels).sum().item() / labels.size(0) * 100\n",
    "    return accuracy\n"
   ],
   "id": "797a8de9ab574ea6"
  },
  {
   "metadata": {},
   "cell_type": "code",
   "outputs": [],
   "execution_count": null,
   "source": [
    "# ensemble models\n",
    "hard_accuracy_list = []\n",
    "soft_accuracy_list = []\n",
    "\n",
    "for i in range(1, 6):\n",
    "    # set paths\n",
    "    suffix = f\"_{i}.pth\"\n",
    "    cnn_model_path_i = cnn_model_path + suffix\n",
    "    resnet_model_path_i = resnet_model_path + suffix\n",
    "    efficientnet_model_path_i = efficientnet_model_path + suffix\n",
    "    \n",
    "    # initialize nets\n",
    "    cnn = init_cnn(dropout=dropout).to(device)\n",
    "    resnet = init_resnet().to(device)\n",
    "    efficientnet = init_efficientnet().to(device)\n",
    "    \n",
    "    # load weights\n",
    "    cnn.load_state_dict(torch.load(cnn_model_path_i, weights_only=True))\n",
    "    resnet.load_state_dict(torch.load(resnet_model_path_i, weights_only=True))\n",
    "    efficientnet.load_state_dict(torch.load(efficientnet_model_path_i, weights_only=True))\n",
    "    \n",
    "    # get probabilities\n",
    "    cnn_prob = get_proba(cnn, test_dataloader_cnn, device) # different data loader for cnn\n",
    "    resnet_prob = get_proba(resnet, test_dataloader, device)\n",
    "    efficientnet_prob = get_proba(efficientnet, test_dataloader, device)\n",
    "    \n",
    "    # hard voting\n",
    "    cnn_pred = get_prediction(cnn_prob)\n",
    "    resnet_pred = get_prediction(resnet_prob)\n",
    "    efficientnet_pred = get_prediction(efficientnet_prob)\n",
    "    \n",
    "    models_pred = torch.stack([cnn_pred, resnet_pred, efficientnet_pred], dim=0)\n",
    "    hard_pred, _ = torch.mode(models_pred, dim=0)\n",
    "    hard_accuracy = compute_accuracy(hard_pred, labels)\n",
    "    hard_accuracy_list.append(hard_accuracy)\n",
    "    \n",
    "    # soft voting\n",
    "    ensemble_prob = (cnn_prob + resnet_prob + efficientnet_prob) / 3\n",
    "    soft_pred = get_prediction(ensemble_prob)\n",
    "    soft_accuracy = compute_accuracy(soft_pred, labels)\n",
    "    soft_accuracy_list.append(soft_accuracy)\n",
    "\n",
    "# saving results\n",
    "save(hard_accuracy_list, path_ensemble_hard)\n",
    "save(soft_accuracy_list, path_ensemble_soft)"
   ],
   "id": "fafc5cef80943489"
  },
  {
   "metadata": {},
   "cell_type": "code",
   "outputs": [],
   "execution_count": null,
   "source": [
    "print(hard_accuracy_list)\n",
    "print(soft_accuracy_list)"
   ],
   "id": "a7e59e172d5165e1"
  },
  {
   "metadata": {
    "ExecuteTime": {
     "end_time": "2025-03-31T13:49:54.235849Z",
     "start_time": "2025-03-31T13:49:53.082252Z"
    }
   },
   "cell_type": "code",
   "source": [
    "# total results\n",
    "cnn_history_path = \"output/history/cnn/cnn\"\n",
    "resnet_history_path = \"output/history/resnet/resnet\"\n",
    "efficientnet_history_path = \"output/history/efficientnet/efficientnet\"\n",
    "\n",
    "cnn_accuracy_list = []\n",
    "resnet_accuracy_list = []\n",
    "efficientnet_accuracy_list = []\n",
    "hard_accuracy_list = load(path_ensemble_hard)\n",
    "soft_accuracy_list = load(path_ensemble_soft)\n",
    "\n",
    "for i in range(1, 6):\n",
    "    # set paths\n",
    "    suffix = f\"_{i}.pkl\"\n",
    "    cnn_history_path_i = cnn_history_path + suffix\n",
    "    resnet_history_path_i = resnet_history_path + suffix\n",
    "    efficientnet_history_path_i = efficientnet_history_path + suffix\n",
    "    \n",
    "    cnn_test_acc = load(cnn_history_path_i)[\"accuracy_test\"]\n",
    "    cnn_accuracy_list.append(cnn_test_acc)\n",
    "    \n",
    "    resnet_test_acc = load(resnet_history_path_i)[\"accuracy_test\"]\n",
    "    resnet_accuracy_list.append(resnet_test_acc)\n",
    "    \n",
    "    efficientnet_test_acc = load(efficientnet_history_path_i)[\"accuracy_test\"]\n",
    "    efficientnet_accuracy_list.append(efficientnet_test_acc)"
   ],
   "id": "ac84fd52d82e102c",
   "outputs": [],
   "execution_count": 3
  },
  {
   "metadata": {
    "ExecuteTime": {
     "end_time": "2025-03-31T13:49:54.273485Z",
     "start_time": "2025-03-31T13:49:54.241874Z"
    }
   },
   "cell_type": "code",
   "source": [
    "import pandas as pd\n",
    "\n",
    "models = [\"CNN\", \"ResNet\", \"EfficientNet\", \"soft ensemble\", \"hard ensemble\"]\n",
    "data = np.array([cnn_accuracy_list, resnet_accuracy_list, efficientnet_accuracy_list, soft_accuracy_list, hard_accuracy_list]).T\n",
    "print(pd.DataFrame(data, columns=models).describe())"
   ],
   "id": "44e740c7864626dd",
   "outputs": [
    {
     "name": "stdout",
     "output_type": "stream",
     "text": [
      "             CNN     ResNet  EfficientNet  soft ensemble  hard ensemble\n",
      "count   5.000000   5.000000      5.000000       5.000000       5.000000\n",
      "mean   61.050222  79.757111     88.954889      88.159333      84.740889\n",
      "std     2.962408   2.816411      0.166353       0.332626       1.023921\n",
      "min    58.560000  75.270000     88.687778      87.675556      83.376667\n",
      "25%    58.668889  78.880000     88.916667      87.990000      84.032222\n",
      "50%    59.546667  80.738889     88.998889      88.240000      85.110000\n",
      "75%    63.667778  81.588889     89.055556      88.376667      85.244444\n",
      "max    64.807778  82.307778     89.115556      88.514444      85.941111\n"
     ]
    }
   ],
   "execution_count": 4
  }
 ],
 "metadata": {
  "kernelspec": {
   "display_name": "Python 3",
   "language": "python",
   "name": "python3"
  },
  "language_info": {
   "codemirror_mode": {
    "name": "ipython",
    "version": 2
   },
   "file_extension": ".py",
   "mimetype": "text/x-python",
   "name": "python",
   "nbconvert_exporter": "python",
   "pygments_lexer": "ipython2",
   "version": "2.7.6"
  }
 },
 "nbformat": 4,
 "nbformat_minor": 5
}
