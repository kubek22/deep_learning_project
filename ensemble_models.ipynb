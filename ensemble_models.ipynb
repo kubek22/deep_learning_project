{
 "cells": [
  {
   "cell_type": "code",
   "id": "initial_id",
   "metadata": {
    "collapsed": true,
    "ExecuteTime": {
     "end_time": "2025-03-24T18:09:42.768874Z",
     "start_time": "2025-03-24T18:09:42.743950Z"
    }
   },
   "source": [
    "%load_ext autoreload\n",
    "%autoreload 2\n",
    "from data_loader import load_datasets, create_data_loaders\n",
    "import torch\n",
    "import os\n",
    "from cnn_model import Net as init_cnn\n",
    "import numpy as np\n",
    "from init_nets import init_resnet, init_efficientnet\n",
    "import torch.nn.functional as F\n",
    "from serialization import save, load\n",
    "\n",
    "SEED = 42"
   ],
   "outputs": [
    {
     "name": "stdout",
     "output_type": "stream",
     "text": [
      "The autoreload extension is already loaded. To reload it, use:\n",
      "  %reload_ext autoreload\n"
     ]
    }
   ],
   "execution_count": 12
  },
  {
   "metadata": {
    "ExecuteTime": {
     "end_time": "2025-03-24T18:09:43.020404Z",
     "start_time": "2025-03-24T18:09:42.993869Z"
    }
   },
   "cell_type": "code",
   "source": [
    "# model paths\n",
    "cnn_model_path = \"output/models/cnn/cnn\"\n",
    "resnet_model_path = \"output/models/resnet/resnet\"\n",
    "efficientnet_model_path = \"output/models/efficientnet/efficientnet\"\n",
    "dropout = 0.4\n",
    "device = torch.device(\"cuda\" if torch.cuda.is_available() else \"cpu\")\n",
    "\n",
    "dir_ensemble = \"output/history/ensemble/\"\n",
    "path_ensemble_hard = \"output/history/ensemble/history_hard.pkl\"\n",
    "path_ensemble_soft = \"output/history/ensemble/history_soft.pkl\"\n",
    "\n",
    "if not os.path.exists(dir_ensemble):\n",
    "    os.makedirs(dir_ensemble)"
   ],
   "id": "54f741546cca7b0b",
   "outputs": [],
   "execution_count": 13
  },
  {
   "metadata": {
    "ExecuteTime": {
     "end_time": "2025-03-24T18:09:45.177312Z",
     "start_time": "2025-03-24T18:09:44.675718Z"
    }
   },
   "cell_type": "code",
   "source": [
    "batch_size = 128\n",
    "train, val, test = load_datasets((32, 32))\n",
    "_, _, test_dataloader = create_data_loaders(train, val, test, batch_size)\n",
    "\n",
    "labels = torch.tensor(test.targets).to(device)"
   ],
   "id": "9c73400f3a919059",
   "outputs": [],
   "execution_count": 14
  },
  {
   "metadata": {
    "ExecuteTime": {
     "end_time": "2025-03-24T18:13:37.848429Z",
     "start_time": "2025-03-24T18:13:37.821220Z"
    }
   },
   "cell_type": "code",
   "source": [
    "def get_proba(model, dataloader, device):\n",
    "    all_outputs = []\n",
    "    model.eval()\n",
    "    with torch.no_grad():\n",
    "        for x, y in dataloader:\n",
    "            x, y = x.to(device), y.to(device)\n",
    "            output = model(x)\n",
    "            output = F.softmax(output, dim=1)\n",
    "            all_outputs.append(output)\n",
    "    return torch.cat(all_outputs, dim=0)\n",
    "\n",
    "def get_prediction(proba):\n",
    "    _, predicted = torch.max(proba, 1)\n",
    "    return predicted\n",
    "\n",
    "def compute_accuracy(preds, labels):\n",
    "    accuracy = preds.eq(labels).sum().item() / labels.size(0)\n",
    "    return accuracy\n"
   ],
   "id": "1d10a04f1fdb2b78",
   "outputs": [],
   "execution_count": 32
  },
  {
   "metadata": {
    "ExecuteTime": {
     "end_time": "2025-03-24T18:06:15.704219Z",
     "start_time": "2025-03-24T17:59:40.966285Z"
    }
   },
   "cell_type": "code",
   "source": [
    "# ensemble models\n",
    "hard_accuracy_list = []\n",
    "soft_accuracy_list = []\n",
    "\n",
    "for i in range(1, 6):\n",
    "    # set paths\n",
    "    suffix = f\"_{i}.pth\"\n",
    "    cnn_model_path_i = cnn_model_path + suffix\n",
    "    resnet_model_path_i = resnet_model_path + suffix\n",
    "    efficientnet_model_path_i = efficientnet_model_path + suffix\n",
    "    \n",
    "    # initialize nets\n",
    "    cnn = init_cnn(dropout=dropout).to(device)\n",
    "    resnet = init_resnet().to(device)\n",
    "    efficientnet = init_efficientnet().to(device)\n",
    "    \n",
    "    # load weights\n",
    "    cnn.load_state_dict(torch.load(cnn_model_path_i, weights_only=True))\n",
    "    resnet.load_state_dict(torch.load(resnet_model_path_i, weights_only=True))\n",
    "    efficientnet.load_state_dict(torch.load(efficientnet_model_path_i, weights_only=True))\n",
    "    \n",
    "    # get probabilities\n",
    "    cnn_prob = get_proba(cnn, test_dataloader, device)\n",
    "    resnet_prob = get_proba(resnet, test_dataloader, device)\n",
    "    efficientnet_prob = get_proba(efficientnet, test_dataloader, device)\n",
    "    \n",
    "    # hard voting\n",
    "    cnn_pred = get_prediction(cnn_prob)\n",
    "    resnet_pred = get_prediction(resnet_prob)\n",
    "    efficientnet_pred = get_prediction(efficientnet_prob)\n",
    "    \n",
    "    models_pred = torch.stack([cnn_pred, resnet_pred, efficientnet_pred], dim=0)\n",
    "    hard_pred, _ = torch.mode(models_pred, dim=0)\n",
    "    hard_accuracy = compute_accuracy(hard_pred, labels)\n",
    "    hard_accuracy_list.append(hard_accuracy)\n",
    "    \n",
    "    # soft voting\n",
    "    ensemble_prob = (cnn_prob + resnet_prob + efficientnet_prob) / 3\n",
    "    soft_pred = get_prediction(ensemble_prob)\n",
    "    soft_accuracy = compute_accuracy(soft_pred, labels)\n",
    "    soft_accuracy_list.append(soft_accuracy)\n",
    "\n",
    "# saving results\n",
    "save(np.array(hard_accuracy_list), path_ensemble_hard)\n",
    "save(np.array(soft_accuracy_list), path_ensemble_soft)"
   ],
   "id": "dce04824c3bb507c",
   "outputs": [],
   "execution_count": 7
  },
  {
   "metadata": {
    "ExecuteTime": {
     "end_time": "2025-03-24T18:06:33.418021Z",
     "start_time": "2025-03-24T18:06:33.390731Z"
    }
   },
   "cell_type": "code",
   "source": [
    "print(hard_accuracy_list)\n",
    "print(soft_accuracy_list)"
   ],
   "id": "e62aa27e5eda0d7f",
   "outputs": [
    {
     "name": "stdout",
     "output_type": "stream",
     "text": [
      "[34430, 16900, 30118, 23718, 19577]\n",
      "[55894, 51004, 52562, 55671, 53152]\n"
     ]
    }
   ],
   "execution_count": 8
  },
  {
   "metadata": {},
   "cell_type": "markdown",
   "source": "### Tests",
   "id": "347e6bb33b32bdff"
  },
  {
   "metadata": {
    "ExecuteTime": {
     "end_time": "2025-03-24T18:41:25.731849Z",
     "start_time": "2025-03-24T18:40:54.537291Z"
    }
   },
   "cell_type": "code",
   "source": [
    "from training_functions import evaluate\n",
    "import torch.nn as nn\n",
    "\n",
    "resnet_model_path_i = \"output/models/resnet/resnet_1.pth\"\n",
    "resnet = init_resnet().to(device)\n",
    "resnet.load_state_dict(torch.load(resnet_model_path_i, weights_only=True))\n",
    "accuracy, avg_loss = evaluate(resnet, test_dataloader, nn.CrossEntropyLoss(), device)\n",
    "print(accuracy)\n",
    "print(avg_loss)"
   ],
   "id": "771c5a49a1c576b0",
   "outputs": [
    {
     "name": "stdout",
     "output_type": "stream",
     "text": [
      "16.68111111111111\n",
      "2.3059331046210393e-05\n"
     ]
    }
   ],
   "execution_count": 48
  },
  {
   "metadata": {
    "ExecuteTime": {
     "end_time": "2025-03-24T18:41:55.490349Z",
     "start_time": "2025-03-24T18:41:25.805914Z"
    }
   },
   "cell_type": "code",
   "source": [
    "resnet_model_path_i = \"output/models/resnet/resnet_2.pth\"\n",
    "resnet = init_resnet().to(device)\n",
    "resnet.load_state_dict(torch.load(resnet_model_path_i, weights_only=True))\n",
    "accuracy, avg_loss = evaluate(resnet, test_dataloader, nn.CrossEntropyLoss(), device)\n",
    "print(accuracy)\n",
    "print(avg_loss)"
   ],
   "id": "20c693753e1d6ee2",
   "outputs": [
    {
     "name": "stdout",
     "output_type": "stream",
     "text": [
      "16.263333333333332\n",
      "1.809429195192125e-05\n"
     ]
    }
   ],
   "execution_count": 49
  },
  {
   "metadata": {
    "ExecuteTime": {
     "end_time": "2025-03-24T18:36:28.857900Z",
     "start_time": "2025-03-24T18:36:00.000786Z"
    }
   },
   "cell_type": "code",
   "outputs": [
    {
     "name": "stdout",
     "output_type": "stream",
     "text": [
      "63.66777777777778\n",
      "4.586939348114861e-06\n"
     ]
    }
   ],
   "execution_count": 47,
   "source": [
    "cnn_model_path_i = \"output/models/cnn/cnn_1.pth\"\n",
    "cnn = init_cnn(dropout).to(device)\n",
    "cnn.load_state_dict(torch.load(cnn_model_path_i, weights_only=True))\n",
    "accuracy, avg_loss = evaluate(cnn, test_dataloader, nn.CrossEntropyLoss(), device)\n",
    "print(accuracy)\n",
    "print(avg_loss)"
   ],
   "id": "fee28c130a8cb8e"
  }
 ],
 "metadata": {
  "kernelspec": {
   "display_name": "Python 3",
   "language": "python",
   "name": "python3"
  },
  "language_info": {
   "codemirror_mode": {
    "name": "ipython",
    "version": 2
   },
   "file_extension": ".py",
   "mimetype": "text/x-python",
   "name": "python",
   "nbconvert_exporter": "python",
   "pygments_lexer": "ipython2",
   "version": "2.7.6"
  }
 },
 "nbformat": 4,
 "nbformat_minor": 5
}
