{
 "cells": [
  {
   "cell_type": "code",
   "execution_count": 27,
   "metadata": {},
   "outputs": [],
   "source": [
    "from serialization import load\n",
    "import numpy as np"
   ]
  },
  {
   "cell_type": "code",
   "execution_count": 28,
   "metadata": {},
   "outputs": [],
   "source": [
    "def return_path(lr,drop,beta,batch):\n",
    "    return f'output/history/cnn_lr={lr}_drop={drop}_beta={beta}_batch={batch}/history_'"
   ]
  },
  {
   "cell_type": "code",
   "execution_count": 32,
   "metadata": {},
   "outputs": [],
   "source": [
    "def calculate_values(lrs=[0.001], drops=[0.5], betas=[(0.9,0.999)], batches=[64]):\n",
    "    val_stats = []\n",
    "    for lr in lrs:\n",
    "        for drop in drops:\n",
    "            for beta in betas:\n",
    "                for batch in batches:\n",
    "                    stats = []\n",
    "                    for i in range(1,6):\n",
    "                        stats.append(load(return_path(lr,drop,beta,batch) + f'{i}')['accuracy_test'])\n",
    "                    val_stats.append((np.mean(stats), np.std(stats)))\n",
    "    return val_stats"
   ]
  },
  {
   "cell_type": "code",
   "execution_count": 35,
   "metadata": {},
   "outputs": [
    {
     "data": {
      "text/plain": [
       "[(np.float64(57.54133333333333), np.float64(2.3036592897945627)),\n",
       " (np.float64(58.836222222222226), np.float64(0.9216039694701889)),\n",
       " (np.float64(60.11088888888888), np.float64(1.0145588106398324)),\n",
       " (np.float64(55.27711111111112), np.float64(1.0974904257294913)),\n",
       " (np.float64(51.44777777777777), np.float64(1.5072969838525052))]"
      ]
     },
     "execution_count": 35,
     "metadata": {},
     "output_type": "execute_result"
    }
   ],
   "source": [
    "drops = [i/10 for i in range(3,8)]\n",
    "calculate_values(drops = drops)"
   ]
  },
  {
   "cell_type": "code",
   "execution_count": 36,
   "metadata": {},
   "outputs": [
    {
     "data": {
      "text/plain": [
       "[(np.float64(57.232222222222234), np.float64(2.902585565140667)),\n",
       " (np.float64(60.11088888888888), np.float64(1.0145588106398324)),\n",
       " (np.float64(54.712666666666664), np.float64(1.5455686715634849)),\n",
       " (np.float64(52.54088888888889), np.float64(1.6307691739683563)),\n",
       " (np.float64(48.63333333333334), np.float64(2.4722136828816303)),\n",
       " (np.float64(45.06666666666667), np.float64(2.756120820158044))]"
      ]
     },
     "execution_count": 36,
     "metadata": {},
     "output_type": "execute_result"
    }
   ],
   "source": [
    "lrs = [i/2000 for i in range(1,7)]\n",
    "calculate_values(lrs=lrs)"
   ]
  },
  {
   "cell_type": "code",
   "execution_count": 38,
   "metadata": {},
   "outputs": [
    {
     "data": {
      "text/plain": [
       "[(np.float64(55.74644444444444), np.float64(2.27110093496307)),\n",
       " (np.float64(58.02755555555556), np.float64(0.4037303830803701)),\n",
       " (np.float64(56.11111111111111), np.float64(1.8967941765379144)),\n",
       " (np.float64(57.89555555555555), np.float64(0.9956604607427276))]"
      ]
     },
     "execution_count": 38,
     "metadata": {},
     "output_type": "execute_result"
    }
   ],
   "source": [
    "betas = [(1-i/10, 1-i/1000) for i in range(2,6)]\n",
    "calculate_values(betas=betas)"
   ]
  },
  {
   "cell_type": "code",
   "execution_count": 39,
   "metadata": {},
   "outputs": [
    {
     "data": {
      "text/plain": [
       "[(np.float64(58.696888888888886), np.float64(0.3455583422538568)),\n",
       " (np.float64(60.11088888888888), np.float64(1.0145588106398324)),\n",
       " (np.float64(60.79933333333334), np.float64(0.6138390024979297))]"
      ]
     },
     "execution_count": 39,
     "metadata": {},
     "output_type": "execute_result"
    }
   ],
   "source": [
    "batches = [2 ** i for i in range(5,8)]\n",
    "calculate_values(batches=batches)"
   ]
  },
  {
   "cell_type": "code",
   "execution_count": 46,
   "metadata": {},
   "outputs": [
    {
     "data": {
      "text/plain": [
       "[(np.float64(58.76088888888889), np.float64(1.4221512829530278)),\n",
       " (np.float64(47.38888888888889), np.float64(1.6512754516687853)),\n",
       " (np.float64(57.553999999999995), np.float64(1.1255832178239487)),\n",
       " (np.float64(60.034222222222226), np.float64(1.4030920704019003)),\n",
       " (np.float64(60.110888888888894), np.float64(0.7565990832928015))]"
      ]
     },
     "execution_count": 46,
     "metadata": {},
     "output_type": "execute_result"
    }
   ],
   "source": [
    "val_stats = []\n",
    "decays = [0] + [1/10**i for i in range(2,6)]\n",
    "for decay in decays:\n",
    "    stats = []\n",
    "    for i in range(1,6):\n",
    "        stats.append(load(f'output/history/cnn_weight_decay={decay}/history_' + f'{i}')['accuracy_test'])\n",
    "    val_stats.append((np.mean(stats), np.std(stats)))\n",
    "val_stats"
   ]
  },
  {
   "cell_type": "code",
   "execution_count": 47,
   "metadata": {},
   "outputs": [
    {
     "data": {
      "text/plain": [
       "[(np.float64(61.98777777777777), np.float64(0.7991625246098197)),\n",
       " (np.float64(63.30622222222222), np.float64(1.1625180418087566)),\n",
       " (np.float64(61.66266666666667), np.float64(0.8158209074830202)),\n",
       " (np.float64(60.650222222222226), np.float64(2.3520369317668166)),\n",
       " (np.float64(59.19466666666667), np.float64(5.070053711941847))]"
      ]
     },
     "execution_count": 47,
     "metadata": {},
     "output_type": "execute_result"
    }
   ],
   "source": [
    "val_stats = []\n",
    "for aug in ['blur', 'bright', 'cutout', 'none', 'rotation']:\n",
    "    stats = []\n",
    "    for i in range(1,6):\n",
    "        stats.append(load(f'output/history/cnn_lr=0.001_drop=0.4_beta=(0.7, 0.997)_batch=128_aug={aug}/history_' + f'{i}')['accuracy_test'])\n",
    "    val_stats.append((np.mean(stats), np.std(stats)))\n",
    "val_stats"
   ]
  }
 ],
 "metadata": {
  "kernelspec": {
   "display_name": ".venv",
   "language": "python",
   "name": "python3"
  },
  "language_info": {
   "codemirror_mode": {
    "name": "ipython",
    "version": 3
   },
   "file_extension": ".py",
   "mimetype": "text/x-python",
   "name": "python",
   "nbconvert_exporter": "python",
   "pygments_lexer": "ipython3",
   "version": "3.12.1"
  }
 },
 "nbformat": 4,
 "nbformat_minor": 2
}
