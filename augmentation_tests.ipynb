{
 "cells": [
  {
   "cell_type": "code",
   "execution_count": 7,
   "metadata": {},
   "outputs": [
    {
     "name": "stdout",
     "output_type": "stream",
     "text": [
      "The autoreload extension is already loaded. To reload it, use:\n",
      "  %reload_ext autoreload\n"
     ]
    }
   ],
   "source": [
    "%load_ext autoreload\n",
    "%autoreload 2\n",
    "from data_loader import load_datasets, create_data_loaders\n",
    "import torch\n",
    "from training_pipeline import train_with_different_parameters, plot_results, train_with_augmentation\n",
    "from training_pipeline import repeat_training\n",
    "import os\n",
    "from cnn_model import Net\n",
    "import numpy as np\n",
    "import random\n",
    "\n",
    "SEED = 42"
   ]
  },
  {
   "cell_type": "code",
   "execution_count": 8,
   "metadata": {},
   "outputs": [],
   "source": [
    "def set_seed(seed):\n",
    "    random.seed(seed)\n",
    "    np.random.seed(seed)\n",
    "    torch.manual_seed(seed)\n",
    "    torch.cuda.manual_seed(seed)"
   ]
  },
  {
   "cell_type": "code",
   "execution_count": 9,
   "metadata": {},
   "outputs": [],
   "source": [
    "set_seed(SEED)\n",
    "# optimal parameters\n",
    "batch_size = 128\n",
    "learning_rate = 0.0005\n",
    "dropout = 0.4\n",
    "betas = (0.7, 0.997)\n",
    "weight_decay = 1e-5"
   ]
  },
  {
   "cell_type": "code",
   "execution_count": null,
   "metadata": {},
   "outputs": [],
   "source": [
    "augs = ['rotation', 'blur', 'bright', 'cutout']\n",
    "for i in range(4):\n",
    "    train, val, test = load_datasets((32, 32), apply_rotation=i==0,\n",
    "                                                        apply_blur = i==1,\n",
    "                                                        apply_brightness= i==2,\n",
    "                                                        apply_cutout = i==3)\n",
    "    train_dat, val_dat, test_dat = create_data_loaders(train, val, test, batch_size)\n",
    "    aug = augs[i]\n",
    "    set_seed(SEED)\n",
    "    train_with_augmentation(5, Net, 10, train_dat, val_dat, test_dat, 'cuda', batch_size, lr=learning_rate, drop=dropout, beta=betas, aug=aug, weight_decay=weight_decay)"
   ]
  }
 ],
 "metadata": {
  "kernelspec": {
   "display_name": ".venv",
   "language": "python",
   "name": "python3"
  },
  "language_info": {
   "codemirror_mode": {
    "name": "ipython",
    "version": 3
   },
   "file_extension": ".py",
   "mimetype": "text/x-python",
   "name": "python",
   "nbconvert_exporter": "python",
   "pygments_lexer": "ipython3",
   "version": "3.12.7"
  }
 },
 "nbformat": 4,
 "nbformat_minor": 2
}
